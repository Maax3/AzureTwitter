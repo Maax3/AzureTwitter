{
 "cells": [
  {
   "cell_type": "markdown",
   "metadata": {
    "application/vnd.databricks.v1+cell": {
     "cellMetadata": {},
     "inputWidgets": {},
     "nuid": "e86afbae-e41e-4cce-adbb-1d99cf1831bb",
     "showTitle": false,
     "title": ""
    }
   },
   "source": [
    "#### Configuración de token SAS para la conexión con Azure"
   ]
  },
  {
   "cell_type": "code",
   "execution_count": null,
   "metadata": {
    "application/vnd.databricks.v1+cell": {
     "cellMetadata": {
      "byteLimit": 2048000,
      "rowLimit": 10000
     },
     "inputWidgets": {},
     "nuid": "5db91f6c-b00e-4cda-a38c-458fed4f08a2",
     "showTitle": false,
     "title": ""
    }
   },
   "outputs": [],
   "source": [
    "spark.conf.set(\"fs.azure.account.auth.type.tweetsfiles.dfs.core.windows.net\", \"SAS\")\n",
    "spark.conf.set(\"fs.azure.sas.token.provider.type.tweetsfiles.dfs.core.windows.net\", \"org.apache.hadoop.fs.azurebfs.sas.FixedSASTokenProvider\")\n",
    "spark.conf.set(\"fs.azure.sas.fixed.token.tweetsfiles.dfs.core.windows.net\", \"sv=2022-11-02&ss=bfqt&srt=sco&sp=rwdlacupyx&se=2024-07-07T22:27:21Z&st=2024-05-04T14:27:21Z&spr=https&sig=hNwdq5gK3xFjA6yJworsK95Kg13Piu1wunXuPB6fnJY%3D\")"
   ]
  },
  {
   "cell_type": "markdown",
   "metadata": {
    "application/vnd.databricks.v1+cell": {
     "cellMetadata": {},
     "inputWidgets": {},
     "nuid": "75377729-fbc3-4142-b8a0-4a32996495c0",
     "showTitle": false,
     "title": ""
    }
   },
   "source": [
    "#### Instalación de dependencias necesarias\n",
    "* Libreria de sentimiento utilizada: https://github.com/sentiment-analysis-spanish/sentiment-spanish/blob/master/README.md"
   ]
  },
  {
   "cell_type": "code",
   "execution_count": null,
   "metadata": {
    "application/vnd.databricks.v1+cell": {
     "cellMetadata": {
      "byteLimit": 2048000,
      "rowLimit": 10000
     },
     "inputWidgets": {},
     "nuid": "3c354cf6-2a84-4afa-8487-17e9218f10f3",
     "showTitle": false,
     "title": ""
    }
   },
   "outputs": [],
   "source": [
    "#%pip install transformers\n",
    "#%pip install torch\n",
    "#dbutils.library.restartPython()"
   ]
  },
  {
   "cell_type": "markdown",
   "metadata": {
    "application/vnd.databricks.v1+cell": {
     "cellMetadata": {},
     "inputWidgets": {},
     "nuid": "ab8fcd38-25e8-4fa4-bbfc-7165a9336b9c",
     "showTitle": false,
     "title": ""
    }
   },
   "source": [
    "#### Imports"
   ]
  },
  {
   "cell_type": "code",
   "execution_count": null,
   "metadata": {
    "application/vnd.databricks.v1+cell": {
     "cellMetadata": {
      "byteLimit": 2048000,
      "rowLimit": 10000
     },
     "inputWidgets": {},
     "nuid": "35a566ee-de1b-4071-8da7-4a32bc13828d",
     "showTitle": false,
     "title": ""
    }
   },
   "outputs": [],
   "source": [
    "from transformers import pipeline\n",
    "from pyspark import SparkContext\n",
    "import pyspark.sql.functions as fn\n",
    "import pyspark.sql.types as tipos\n",
    "sc = SparkContext.getOrCreate()\n",
    "#variables con los valores de Azure\n",
    "filename = dbutils.widgets.get('file_name_origin')\n",
    "#routename = dbutils.widgets.get('save_route_databricks')"
   ]
  },
  {
   "cell_type": "markdown",
   "metadata": {
    "application/vnd.databricks.v1+cell": {
     "cellMetadata": {},
     "inputWidgets": {},
     "nuid": "90e54212-3e63-4a2d-9865-618419b8a7ea",
     "showTitle": false,
     "title": ""
    }
   },
   "source": [
    "#### Selección de datos para sacar la columna del sentimiento y la URL de cada tweet"
   ]
  },
  {
   "cell_type": "code",
   "execution_count": null,
   "metadata": {
    "application/vnd.databricks.v1+cell": {
     "cellMetadata": {
      "byteLimit": 2048000,
      "rowLimit": 10000
     },
     "inputWidgets": {},
     "nuid": "34df5d3b-a025-43dd-b6d4-b790226142e7",
     "showTitle": false,
     "title": ""
    }
   },
   "outputs": [],
   "source": [
    "esquema = tipos.StructType([\n",
    "    tipos.StructField(\"user_id\",tipos.LongType(),True),\n",
    "    tipos.StructField(\"username\",tipos.StringType(),True),\n",
    "    tipos.StructField(\"tweet_id\",tipos.LongType(), True),\n",
    "    tipos.StructField(\"created_at\",tipos.StringType(),True),\n",
    "    tipos.StructField(\"text\",tipos.StringType(),True),\n",
    "    tipos.StructField(\"language\",tipos.StringType(),True),\n",
    "    tipos.StructField(\"reply_count\",tipos.IntegerType(),True),\n",
    "    tipos.StructField(\"retweet_count\",tipos.IntegerType(),True),\n",
    "    tipos.StructField(\"likes\",tipos.IntegerType(),True),\n",
    "    tipos.StructField(\"view_count\",tipos.FloatType(),True),\n",
    "    tipos.StructField(\"location\",tipos.StringType(),True),\n",
    "    tipos.StructField(\"hashtags\",tipos.StringType(),True),\n",
    "    tipos.StructField(\"in_reply_to\",tipos.StringType(),True),\n",
    "    tipos.StructField(\"quote\",tipos.StringType(),True),\n",
    "    tipos.StructField(\"quote_count\",tipos.IntegerType(),True),\n",
    "    tipos.StructField(\"possibly_sensetive\",tipos.BooleanType(),True),\n",
    "    tipos.StructField(\"latitud\",tipos.FloatType(),True),\n",
    "    tipos.StructField(\"longitud\",tipos.FloatType(),True),\n",
    "    tipos.StructField(\"temas\",tipos.StringType(),True),\n",
    "    tipos.StructField(\"primaryID\",tipos.IntegerType(),False)\n",
    "])\n",
    "\n",
    "\n",
    "#Indicamos el archivo a procesar\n",
    "file_location = f'abfss://rawdata@tweetsfiles.dfs.core.windows.net/processed_dataflow_csv/{filename}'\n",
    "raw_tweets = spark.read.schema(esquema).format(\"csv\").option(\"delimiter\", \"*\").option(\"header\", \"true\").load(file_location).distinct()\n",
    "\n",
    "sentiment_classifier = pipeline(\n",
    "    model=\"lxyuan/distilbert-base-multilingual-cased-sentiments-student\", \n",
    "    top_k=1\n",
    ")\n",
    "\n",
    "# Definimos la UDF para obtener el sentimiento => return esperado: 'positivo, 0.42542972'\n",
    "def apply_sentiment(text):\n",
    "    texto = str(text)\n",
    "    sentiment = sentiment_classifier(texto)\n",
    "    score_sentiment = sentiment[0][0]['score']\n",
    "    label_sentiment = sentiment[0][0]['label']\n",
    "\n",
    "    if label_sentiment == 'positive' and score_sentiment <= 0.61:\n",
    "        label_sentiment = 'neutral'\n",
    "    return f\"{label_sentiment}, {score_sentiment}\"\n",
    "sentiment_udf = udf(apply_sentiment)\n",
    "\n",
    "\n",
    "# Definimos la UDF para sacar modificar los valores nulos\n",
    "def apply_clear_null(text):\n",
    "    if text is None:\n",
    "        text = \"No especificado\"\n",
    "    return text\n",
    "clear_null_udf = udf(apply_clear_null)\n",
    "\n",
    "tweets = (raw_tweets\n",
    "             .select(\"primaryID\",\"user_id\",\"username\", \"tweet_id\", \"created_at\", \"retweet_count\", \"likes\", \"view_count\", \"hashtags\", \"text\", \"location\", \"temas\", \"latitud\", \"longitud\")\n",
    "             # Sacamos la URL y la eliminamos del texto principal. Ademas, normalizamos el texto eliminando las tildes\n",
    "             .withColumn(\"URL\", fn.regexp_extract(\"text\", r'(http)\\S+', 0))\n",
    "             .withColumn(\"text\", fn.regexp_replace(fn.translate(\"text\", \"áéíóú\", \"aeiou\"), r'(http)\\S+', \"\"))\n",
    "             # Creamos la columna de sentimientos y de ahí, sacamos 2 columnas [score y el valor]\n",
    "             .withColumn(\"Sentimientos\", sentiment_udf('text'))\n",
    "             .withColumn(\"Score\", fn.substring(fn.split(\"Sentimientos\",r',\\s')[1], 0, 4))\n",
    "             .withColumn(\"Sentimientos\", fn.split(\"Sentimientos\", r',\\s')[0])\n",
    "             # Normalizamos los valores nulos\n",
    "             .withColumn(\"location\", clear_null_udf(\"location\"))\n",
    "             .withColumn(\"hashtags\", clear_null_udf(\"hashtags\"))\n",
    "             )\n",
    "\n",
    "\n",
    "\n"
   ]
  },
  {
   "cell_type": "markdown",
   "metadata": {
    "application/vnd.databricks.v1+cell": {
     "cellMetadata": {},
     "inputWidgets": {},
     "nuid": "2a7c5175-ae90-4f3c-af56-a052b47b3465",
     "showTitle": false,
     "title": ""
    }
   },
   "source": [
    "#### Guardar los datos en el DataLake"
   ]
  },
  {
   "cell_type": "code",
   "execution_count": null,
   "metadata": {
    "application/vnd.databricks.v1+cell": {
     "cellMetadata": {},
     "inputWidgets": {},
     "nuid": "25d6b40c-a23d-47ec-b956-447e143772c8",
     "showTitle": false,
     "title": ""
    }
   },
   "outputs": [],
   "source": [
    "#ruta = f'abfss://outputdata@tweetsfiles.dfs.core.windows.net/{routename}'\n",
    "ruta = f'abfss://outputdata@tweetsfiles.dfs.core.windows.net/lib/{filename}'\n",
    "ruta_temporal = f'abfss://outputdata@tweetsfiles.dfs.core.windows.net/tmp'\n",
    "tweets.repartition(1).write.format(\"CSV\").option(\"header\", \"true\").option(\"delimiter\", \"*\").mode(\"overwrite\").save(ruta_temporal)\n",
    "\n",
    "contenedor = dbutils.fs.ls(ruta_temporal)\n",
    "for fichero in contenedor:\n",
    "  if '.csv' in fichero.name:\n",
    "    file = fichero.name\n",
    "\n",
    "dbutils.fs.cp(f'{ruta_temporal}/{file}', ruta)\n",
    "dbutils.fs.rm(ruta_temporal, True)"
   ]
  }
 ],
 "metadata": {
  "application/vnd.databricks.v1+notebook": {
   "dashboards": [],
   "environmentMetadata": null,
   "language": "python",
   "notebookMetadata": {
    "pythonIndentUnit": 4
   },
   "notebookName": "Analisis-Sentimientos-LLM",
   "widgets": {}
  },
  "kernelspec": {
   "display_name": "base",
   "language": "python",
   "name": "python3"
  },
  "language_info": {
   "codemirror_mode": {
    "name": "ipython",
    "version": 3
   },
   "file_extension": ".py",
   "mimetype": "text/x-python",
   "name": "python",
   "nbconvert_exporter": "python",
   "pygments_lexer": "ipython3",
   "version": "3.11.7"
  }
 },
 "nbformat": 4,
 "nbformat_minor": 0
}
